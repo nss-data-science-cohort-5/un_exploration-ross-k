{
 "cells": [
  {
   "cell_type": "code",
   "execution_count": 1,
   "metadata": {},
   "outputs": [],
   "source": [
    "# Questions 3 & 4)\n",
    "\n",
    "import pandas as pd\n",
    "import numpy as np\n",
    "import matplotlib.pyplot as plt\n",
    "import seaborn as sns\n",
    "%matplotlib inline"
   ]
  },
  {
   "cell_type": "markdown",
   "metadata": {},
   "source": [
    "5 - Using the pandas read_csv() function, read the GDP dataset into your notebook as a DataFrame called gdp_df.\n",
    "\n",
    "Take a look at the first 10 rows. Look at the last 5 rows. Do you see a problem? Redo the read_csv() call to correct this issue - do not modify the original csv file.\n",
    "\n",
    "A . The string at the end is incompatible with the numerical data type of the third column.  We can fix this by adding a skipfooter=5 argument in the read_csv() function call.\n",
    "\n",
    "\n",
    "6 - Drop the 'Value Footnotes' column, and rename the remaining columns to ‘Country’, ‘Year’, and ‘GDP_Per_Capita’."
   ]
  },
  {
   "cell_type": "code",
   "execution_count": 2,
   "metadata": {},
   "outputs": [
    {
     "name": "stderr",
     "output_type": "stream",
     "text": [
      "<ipython-input-2-888f48a420be>:3: ParserWarning: Falling back to the 'python' engine because the 'c' engine does not support skipfooter; you can avoid this warning by specifying engine='python'.\n",
      "  gdp_df = pd.read_csv('../data/gdp_per_capita.csv',\n"
     ]
    }
   ],
   "source": [
    "# Questions 5 & 6)\n",
    "\n",
    "gdp_df = pd.read_csv('../data/gdp_per_capita.csv', \n",
    "                     skipfooter=5, \n",
    "                     usecols=[0,1,2], \n",
    "                     header=0, \n",
    "                     names=['Country', 'Year', 'GDP Per Capita'])"
   ]
  },
  {
   "cell_type": "code",
   "execution_count": 3,
   "metadata": {},
   "outputs": [
    {
     "data": {
      "text/plain": [
       "Country           False\n",
       "Year              False\n",
       "GDP Per Capita    False\n",
       "dtype: bool"
      ]
     },
     "execution_count": 3,
     "metadata": {},
     "output_type": "execute_result"
    }
   ],
   "source": [
    "gdp_df.isna().any()"
   ]
  },
  {
   "cell_type": "markdown",
   "metadata": {},
   "source": [
    "7 - Q. How many rows and columns does gdp_df have? What are the data types of its columns? If any of the columns are not the expected types, figure out why and fix it.\n",
    "\n",
    "A. gdp_df has three columns and 6866 rows.  Its columns' data types are object, int64, and float64."
   ]
  },
  {
   "cell_type": "code",
   "execution_count": 4,
   "metadata": {},
   "outputs": [
    {
     "name": "stdout",
     "output_type": "stream",
     "text": [
      "<class 'pandas.core.frame.DataFrame'>\n",
      "RangeIndex: 6866 entries, 0 to 6865\n",
      "Data columns (total 3 columns):\n",
      " #   Column          Non-Null Count  Dtype  \n",
      "---  ------          --------------  -----  \n",
      " 0   Country         6866 non-null   object \n",
      " 1   Year            6866 non-null   int64  \n",
      " 2   GDP Per Capita  6866 non-null   float64\n",
      "dtypes: float64(1), int64(1), object(1)\n",
      "memory usage: 161.0+ KB\n"
     ]
    }
   ],
   "source": [
    "# Question 7)\n",
    "\n",
    "gdp_df.info()"
   ]
  },
  {
   "cell_type": "markdown",
   "metadata": {},
   "source": [
    "8 - Q. Which years are represented in this dataset? Take a look at the number of observations per year. What do you notice?\n",
    "\n",
    "A. The year range is 1990 - 2019.  Some countries are missing data for the first few years, so there are fewer observations the further back in time we go, and then the number of observations per year increases in more recent years."
   ]
  },
  {
   "cell_type": "code",
   "execution_count": 5,
   "metadata": {},
   "outputs": [
    {
     "data": {
      "text/plain": [
       "2019"
      ]
     },
     "execution_count": 5,
     "metadata": {},
     "output_type": "execute_result"
    }
   ],
   "source": [
    "# Question 8)\n",
    "\n",
    "gdp_df['Year'].max() "
   ]
  },
  {
   "cell_type": "code",
   "execution_count": 6,
   "metadata": {},
   "outputs": [
    {
     "data": {
      "text/plain": [
       "1990"
      ]
     },
     "execution_count": 6,
     "metadata": {},
     "output_type": "execute_result"
    }
   ],
   "source": [
    "# Question 8)\n",
    "\n",
    "gdp_df['Year'].min()"
   ]
  },
  {
   "cell_type": "code",
   "execution_count": 7,
   "metadata": {},
   "outputs": [
    {
     "data": {
      "text/plain": [
       "1990    206\n",
       "1991    207\n",
       "1992    209\n",
       "1993    212\n",
       "1994    214\n",
       "1995    221\n",
       "1996    221\n",
       "1998    223\n",
       "1997    223\n",
       "1999    224\n",
       "2000    231\n",
       "2019    231\n",
       "2001    232\n",
       "2002    233\n",
       "2003    233\n",
       "2004    234\n",
       "2005    234\n",
       "2007    235\n",
       "2006    235\n",
       "2008    235\n",
       "2010    236\n",
       "2009    236\n",
       "2011    237\n",
       "2018    237\n",
       "2012    237\n",
       "2013    238\n",
       "2015    238\n",
       "2017    238\n",
       "2016    238\n",
       "2014    238\n",
       "Name: Year, dtype: int64"
      ]
     },
     "execution_count": 7,
     "metadata": {},
     "output_type": "execute_result"
    }
   ],
   "source": [
    "gdp_df['Year'].value_counts(ascending=True)"
   ]
  },
  {
   "cell_type": "markdown",
   "metadata": {},
   "source": [
    "9 - Q. How many countries are represented in this dataset? Which countries are least represented in the dataset? Why do you think these countries have so few observations?\n",
    "\n",
    "A. 238 countries appear in the data set.  \n",
    "\n",
    "As for why some countries have fewer cobservations, there are multiple reasons.  I am wondering if some of these countries, for example the Cayman Islands, might be tax havens that are not very forthcoming with their GDP.  \n",
    "\n",
    "In some cases, countries have internal strifed over sovereignty and are newly emerging; for example, Kosovo only declared independence from Serbia in 2008.  \n",
    "\n",
    "Other countries are also simply war zones.  In such places, reporting infrastructure and relations with the UN are probably more difficult to maintain than in peaceful places.  Afghanistan, in particular, has not only been at war for decades, it is also nearly impossible to govern in a centralized way due to its mountainous geography, and is effectively run by Taliban warlords at a local level.  It is hard to imagine UN statistical reporting being a priority in such a place.  For another example, Djibouti had a civil war in the 1990s that probably pulled resources away from UN diplomacy and statistical reporting.  Wikipedia also says that Djibouti has had a growing Chinese military presence in recent years, and China is not known for cooperating with the UN or anything else culturally Western, so Chinese involvement might have prevented UN cooperation in some years."
   ]
  },
  {
   "cell_type": "code",
   "execution_count": 8,
   "metadata": {},
   "outputs": [
    {
     "data": {
      "text/plain": [
       "Djibouti                        7\n",
       "Turks and Caicos Islands        9\n",
       "Sint Maarten (Dutch part)      10\n",
       "Cayman Islands                 13\n",
       "Nauru                          16\n",
       "Afghanistan                    18\n",
       "SÃƒÂ£o TomÃƒÂ© and Principe    19\n",
       "Liberia                        20\n",
       "Kosovo                         20\n",
       "Timor-Leste                    20\n",
       "Name: Country, dtype: int64"
      ]
     },
     "execution_count": 8,
     "metadata": {},
     "output_type": "execute_result"
    }
   ],
   "source": [
    "# Question 9)\n",
    "\n",
    "gdp_df['Country'].value_counts().nsmallest(10)"
   ]
  },
  {
   "cell_type": "markdown",
   "metadata": {},
   "source": [
    "10 - Create a new dataframe by subsetting gdp_df to just the year 2014. Call this new dataframe gdp_2014."
   ]
  },
  {
   "cell_type": "code",
   "execution_count": 9,
   "metadata": {},
   "outputs": [],
   "source": [
    "# Question 10)\n",
    "\n",
    "gdp_2014 = gdp_df[gdp_df['Year']==2014]    # CAN ALSO RUN gdp_df[gdp_df['Year'].isin(['2014'])]"
   ]
  },
  {
   "cell_type": "code",
   "execution_count": 10,
   "metadata": {},
   "outputs": [
    {
     "data": {
      "text/html": [
       "<div>\n",
       "<style scoped>\n",
       "    .dataframe tbody tr th:only-of-type {\n",
       "        vertical-align: middle;\n",
       "    }\n",
       "\n",
       "    .dataframe tbody tr th {\n",
       "        vertical-align: top;\n",
       "    }\n",
       "\n",
       "    .dataframe thead th {\n",
       "        text-align: right;\n",
       "    }\n",
       "</style>\n",
       "<table border=\"1\" class=\"dataframe\">\n",
       "  <thead>\n",
       "    <tr style=\"text-align: right;\">\n",
       "      <th></th>\n",
       "      <th>Country</th>\n",
       "      <th>Year</th>\n",
       "      <th>GDP Per Capita</th>\n",
       "    </tr>\n",
       "  </thead>\n",
       "  <tbody>\n",
       "    <tr>\n",
       "      <th>5</th>\n",
       "      <td>Afghanistan</td>\n",
       "      <td>2014</td>\n",
       "      <td>2102.385234</td>\n",
       "    </tr>\n",
       "    <tr>\n",
       "      <th>23</th>\n",
       "      <td>Albania</td>\n",
       "      <td>2014</td>\n",
       "      <td>11623.866679</td>\n",
       "    </tr>\n",
       "    <tr>\n",
       "      <th>53</th>\n",
       "      <td>Algeria</td>\n",
       "      <td>2014</td>\n",
       "      <td>11512.705405</td>\n",
       "    </tr>\n",
       "    <tr>\n",
       "      <th>83</th>\n",
       "      <td>Angola</td>\n",
       "      <td>2014</td>\n",
       "      <td>8239.828837</td>\n",
       "    </tr>\n",
       "    <tr>\n",
       "      <th>113</th>\n",
       "      <td>Antigua and Barbuda</td>\n",
       "      <td>2014</td>\n",
       "      <td>18104.241470</td>\n",
       "    </tr>\n",
       "    <tr>\n",
       "      <th>...</th>\n",
       "      <td>...</td>\n",
       "      <td>...</td>\n",
       "      <td>...</td>\n",
       "    </tr>\n",
       "    <tr>\n",
       "      <th>6727</th>\n",
       "      <td>Vietnam</td>\n",
       "      <td>2014</td>\n",
       "      <td>6098.489609</td>\n",
       "    </tr>\n",
       "    <tr>\n",
       "      <th>6757</th>\n",
       "      <td>West Bank and Gaza</td>\n",
       "      <td>2014</td>\n",
       "      <td>5967.073437</td>\n",
       "    </tr>\n",
       "    <tr>\n",
       "      <th>6783</th>\n",
       "      <td>World</td>\n",
       "      <td>2014</td>\n",
       "      <td>15189.648507</td>\n",
       "    </tr>\n",
       "    <tr>\n",
       "      <th>6813</th>\n",
       "      <td>Zambia</td>\n",
       "      <td>2014</td>\n",
       "      <td>3450.046561</td>\n",
       "    </tr>\n",
       "    <tr>\n",
       "      <th>6843</th>\n",
       "      <td>Zimbabwe</td>\n",
       "      <td>2014</td>\n",
       "      <td>2955.240287</td>\n",
       "    </tr>\n",
       "  </tbody>\n",
       "</table>\n",
       "<p>238 rows × 3 columns</p>\n",
       "</div>"
      ],
      "text/plain": [
       "                  Country  Year  GDP Per Capita\n",
       "5             Afghanistan  2014     2102.385234\n",
       "23                Albania  2014    11623.866679\n",
       "53                Algeria  2014    11512.705405\n",
       "83                 Angola  2014     8239.828837\n",
       "113   Antigua and Barbuda  2014    18104.241470\n",
       "...                   ...   ...             ...\n",
       "6727              Vietnam  2014     6098.489609\n",
       "6757   West Bank and Gaza  2014     5967.073437\n",
       "6783                World  2014    15189.648507\n",
       "6813               Zambia  2014     3450.046561\n",
       "6843             Zimbabwe  2014     2955.240287\n",
       "\n",
       "[238 rows x 3 columns]"
      ]
     },
     "execution_count": 10,
     "metadata": {},
     "output_type": "execute_result"
    }
   ],
   "source": [
    "gdp_2014"
   ]
  },
  {
   "cell_type": "markdown",
   "metadata": {},
   "source": [
    "11 - Use .describe() to find the summary statistics for GDP per capita in 2014."
   ]
  },
  {
   "cell_type": "code",
   "execution_count": 11,
   "metadata": {},
   "outputs": [
    {
     "data": {
      "text/html": [
       "<div>\n",
       "<style scoped>\n",
       "    .dataframe tbody tr th:only-of-type {\n",
       "        vertical-align: middle;\n",
       "    }\n",
       "\n",
       "    .dataframe tbody tr th {\n",
       "        vertical-align: top;\n",
       "    }\n",
       "\n",
       "    .dataframe thead th {\n",
       "        text-align: right;\n",
       "    }\n",
       "</style>\n",
       "<table border=\"1\" class=\"dataframe\">\n",
       "  <thead>\n",
       "    <tr style=\"text-align: right;\">\n",
       "      <th></th>\n",
       "      <th>Year</th>\n",
       "      <th>GDP Per Capita</th>\n",
       "    </tr>\n",
       "  </thead>\n",
       "  <tbody>\n",
       "    <tr>\n",
       "      <th>count</th>\n",
       "      <td>238.0</td>\n",
       "      <td>238.000000</td>\n",
       "    </tr>\n",
       "    <tr>\n",
       "      <th>mean</th>\n",
       "      <td>2014.0</td>\n",
       "      <td>19766.710348</td>\n",
       "    </tr>\n",
       "    <tr>\n",
       "      <th>std</th>\n",
       "      <td>0.0</td>\n",
       "      <td>20983.869623</td>\n",
       "    </tr>\n",
       "    <tr>\n",
       "      <th>min</th>\n",
       "      <td>2014.0</td>\n",
       "      <td>822.610458</td>\n",
       "    </tr>\n",
       "    <tr>\n",
       "      <th>25%</th>\n",
       "      <td>2014.0</td>\n",
       "      <td>4753.110934</td>\n",
       "    </tr>\n",
       "    <tr>\n",
       "      <th>50%</th>\n",
       "      <td>2014.0</td>\n",
       "      <td>12209.385755</td>\n",
       "    </tr>\n",
       "    <tr>\n",
       "      <th>75%</th>\n",
       "      <td>2014.0</td>\n",
       "      <td>26803.610474</td>\n",
       "    </tr>\n",
       "    <tr>\n",
       "      <th>max</th>\n",
       "      <td>2014.0</td>\n",
       "      <td>156514.133850</td>\n",
       "    </tr>\n",
       "  </tbody>\n",
       "</table>\n",
       "</div>"
      ],
      "text/plain": [
       "         Year  GDP Per Capita\n",
       "count   238.0      238.000000\n",
       "mean   2014.0    19766.710348\n",
       "std       0.0    20983.869623\n",
       "min    2014.0      822.610458\n",
       "25%    2014.0     4753.110934\n",
       "50%    2014.0    12209.385755\n",
       "75%    2014.0    26803.610474\n",
       "max    2014.0   156514.133850"
      ]
     },
     "execution_count": 11,
     "metadata": {},
     "output_type": "execute_result"
    }
   ],
   "source": [
    "# Question 11)\n",
    "\n",
    "gdp_2014.describe()"
   ]
  },
  {
   "cell_type": "markdown",
   "metadata": {},
   "source": [
    "12 - Q. Create a histogram of GDP Per Capita numbers for 2014 (you may wish to adjust the number of bins for your histogram). How would you describe the shape of the distribution?\n",
    "\n",
    "A. The distribution is very right-skewed, with most observations falling well below the mean value and a few very high outliers."
   ]
  },
  {
   "cell_type": "code",
   "execution_count": 12,
   "metadata": {},
   "outputs": [
    {
     "data": {
      "text/plain": [
       "array([[<AxesSubplot:title={'center':'Year'}>,\n",
       "        <AxesSubplot:title={'center':'GDP Per Capita'}>]], dtype=object)"
      ]
     },
     "execution_count": 12,
     "metadata": {},
     "output_type": "execute_result"
    },
    {
     "data": {
      "image/png": "[encoded data removed]",
      "text/plain": [
       "<Figure size 432x288 with 2 Axes>"
      ]
     },
     "metadata": {
      "needs_background": "light"
     },
     "output_type": "display_data"
    }
   ],
   "source": [
    "# Question 12)\n",
    "\n",
    "gdp_2014.hist(bins=238)"
   ]
  },
  {
   "cell_type": "markdown",
   "metadata": {},
   "source": [
    "13 - Find the top 5 counties and bottom 5 countries by GDP per capita in 2014."
   ]
  },
  {
   "cell_type": "code",
   "execution_count": 13,
   "metadata": {},
   "outputs": [
    {
     "data": {
      "text/html": [
       "<div>\n",
       "<style scoped>\n",
       "    .dataframe tbody tr th:only-of-type {\n",
       "        vertical-align: middle;\n",
       "    }\n",
       "\n",
       "    .dataframe tbody tr th {\n",
       "        vertical-align: top;\n",
       "    }\n",
       "\n",
       "    .dataframe thead th {\n",
       "        text-align: right;\n",
       "    }\n",
       "</style>\n",
       "<table border=\"1\" class=\"dataframe\">\n",
       "  <thead>\n",
       "    <tr style=\"text-align: right;\">\n",
       "      <th></th>\n",
       "      <th>Country</th>\n",
       "      <th>Year</th>\n",
       "      <th>GDP Per Capita</th>\n",
       "    </tr>\n",
       "  </thead>\n",
       "  <tbody>\n",
       "    <tr>\n",
       "      <th>3721</th>\n",
       "      <td>Macao SAR, China</td>\n",
       "      <td>2014</td>\n",
       "      <td>156514.133850</td>\n",
       "    </tr>\n",
       "    <tr>\n",
       "      <th>3691</th>\n",
       "      <td>Luxembourg</td>\n",
       "      <td>2014</td>\n",
       "      <td>108760.916030</td>\n",
       "    </tr>\n",
       "    <tr>\n",
       "      <th>5138</th>\n",
       "      <td>Qatar</td>\n",
       "      <td>2014</td>\n",
       "      <td>95578.416973</td>\n",
       "    </tr>\n",
       "    <tr>\n",
       "      <th>5464</th>\n",
       "      <td>Singapore</td>\n",
       "      <td>2014</td>\n",
       "      <td>87808.663157</td>\n",
       "    </tr>\n",
       "    <tr>\n",
       "      <th>561</th>\n",
       "      <td>Bermuda</td>\n",
       "      <td>2014</td>\n",
       "      <td>77361.104881</td>\n",
       "    </tr>\n",
       "  </tbody>\n",
       "</table>\n",
       "</div>"
      ],
      "text/plain": [
       "               Country  Year  GDP Per Capita\n",
       "3721  Macao SAR, China  2014   156514.133850\n",
       "3691        Luxembourg  2014   108760.916030\n",
       "5138             Qatar  2014    95578.416973\n",
       "5464         Singapore  2014    87808.663157\n",
       "561            Bermuda  2014    77361.104881"
      ]
     },
     "execution_count": 13,
     "metadata": {},
     "output_type": "execute_result"
    }
   ],
   "source": [
    "# Question 13)\n",
    "\n",
    "gdp_2014.nlargest(5, 'GDP Per Capita')"
   ]
  },
  {
   "cell_type": "code",
   "execution_count": 14,
   "metadata": {},
   "outputs": [
    {
     "data": {
      "text/html": [
       "<div>\n",
       "<style scoped>\n",
       "    .dataframe tbody tr th:only-of-type {\n",
       "        vertical-align: middle;\n",
       "    }\n",
       "\n",
       "    .dataframe tbody tr th {\n",
       "        vertical-align: top;\n",
       "    }\n",
       "\n",
       "    .dataframe thead th {\n",
       "        text-align: right;\n",
       "    }\n",
       "</style>\n",
       "<table border=\"1\" class=\"dataframe\">\n",
       "  <thead>\n",
       "    <tr style=\"text-align: right;\">\n",
       "      <th></th>\n",
       "      <th>Country</th>\n",
       "      <th>Year</th>\n",
       "      <th>GDP Per Capita</th>\n",
       "    </tr>\n",
       "  </thead>\n",
       "  <tbody>\n",
       "    <tr>\n",
       "      <th>1047</th>\n",
       "      <td>Central African Republic</td>\n",
       "      <td>2014</td>\n",
       "      <td>822.610458</td>\n",
       "    </tr>\n",
       "    <tr>\n",
       "      <th>827</th>\n",
       "      <td>Burundi</td>\n",
       "      <td>2014</td>\n",
       "      <td>886.235777</td>\n",
       "    </tr>\n",
       "    <tr>\n",
       "      <th>3781</th>\n",
       "      <td>Malawi</td>\n",
       "      <td>2014</td>\n",
       "      <td>1027.208496</td>\n",
       "    </tr>\n",
       "    <tr>\n",
       "      <th>1422</th>\n",
       "      <td>Dem. Rep. Congo</td>\n",
       "      <td>2014</td>\n",
       "      <td>1029.790785</td>\n",
       "    </tr>\n",
       "    <tr>\n",
       "      <th>4528</th>\n",
       "      <td>Niger</td>\n",
       "      <td>2014</td>\n",
       "      <td>1127.615541</td>\n",
       "    </tr>\n",
       "  </tbody>\n",
       "</table>\n",
       "</div>"
      ],
      "text/plain": [
       "                       Country  Year  GDP Per Capita\n",
       "1047  Central African Republic  2014      822.610458\n",
       "827                    Burundi  2014      886.235777\n",
       "3781                    Malawi  2014     1027.208496\n",
       "1422           Dem. Rep. Congo  2014     1029.790785\n",
       "4528                     Niger  2014     1127.615541"
      ]
     },
     "execution_count": 14,
     "metadata": {},
     "output_type": "execute_result"
    }
   ],
   "source": [
    "gdp_2014.nsmallest(5, 'GDP Per Capita')"
   ]
  },
  {
   "cell_type": "markdown",
   "metadata": {},
   "source": [
    "14 - Now, return to the full dataset, gdp_df. Pivot the data for 1990 and 2017 (using the pandas .pivot_table() method or another method) so that each row corresponds to a country, each column corresponds to a year, and the values in the table give the GDP_Per_Capita amount. Drop any rows that are missing values for either 1990 or 2017. Save the result to a dataframe named gdp_pivoted."
   ]
  },
  {
   "cell_type": "code",
   "execution_count": 15,
   "metadata": {},
   "outputs": [],
   "source": [
    "# Question 14)\n",
    "\n",
    "gdp_pivoted = pd.pivot_table(gdp_df[gdp_df['Year'].isin([1990, 2017])], \n",
    "                             values='GDP Per Capita', \n",
    "                             index='Country', \n",
    "                             columns='Year')"
   ]
  },
  {
   "cell_type": "code",
   "execution_count": 16,
   "metadata": {
    "scrolled": true
   },
   "outputs": [],
   "source": [
    "gdp_pivoted = gdp_pivoted.dropna(0)"
   ]
  },
  {
   "cell_type": "code",
   "execution_count": 17,
   "metadata": {},
   "outputs": [
    {
     "data": {
      "text/plain": [
       "Year\n",
       "1990    False\n",
       "2017    False\n",
       "dtype: bool"
      ]
     },
     "execution_count": 17,
     "metadata": {},
     "output_type": "execute_result"
    }
   ],
   "source": [
    "gdp_pivoted.isna().any()"
   ]
  },
  {
   "cell_type": "code",
   "execution_count": 18,
   "metadata": {},
   "outputs": [
    {
     "data": {
      "text/html": [
       "<div>\n",
       "<style scoped>\n",
       "    .dataframe tbody tr th:only-of-type {\n",
       "        vertical-align: middle;\n",
       "    }\n",
       "\n",
       "    .dataframe tbody tr th {\n",
       "        vertical-align: top;\n",
       "    }\n",
       "\n",
       "    .dataframe thead th {\n",
       "        text-align: right;\n",
       "    }\n",
       "</style>\n",
       "<table border=\"1\" class=\"dataframe\">\n",
       "  <thead>\n",
       "    <tr style=\"text-align: right;\">\n",
       "      <th>Year</th>\n",
       "      <th>1990</th>\n",
       "      <th>2017</th>\n",
       "    </tr>\n",
       "    <tr>\n",
       "      <th>Country</th>\n",
       "      <th></th>\n",
       "      <th></th>\n",
       "    </tr>\n",
       "  </thead>\n",
       "  <tbody>\n",
       "    <tr>\n",
       "      <th>Albania</th>\n",
       "      <td>4842.734635</td>\n",
       "      <td>12811.759436</td>\n",
       "    </tr>\n",
       "    <tr>\n",
       "      <th>Algeria</th>\n",
       "      <td>8746.352901</td>\n",
       "      <td>11737.409353</td>\n",
       "    </tr>\n",
       "    <tr>\n",
       "      <th>Angola</th>\n",
       "      <td>5783.429064</td>\n",
       "      <td>7310.901738</td>\n",
       "    </tr>\n",
       "    <tr>\n",
       "      <th>Antigua and Barbuda</th>\n",
       "      <td>15459.551675</td>\n",
       "      <td>19840.076123</td>\n",
       "    </tr>\n",
       "    <tr>\n",
       "      <th>Arab World</th>\n",
       "      <td>9694.667544</td>\n",
       "      <td>14555.474921</td>\n",
       "    </tr>\n",
       "    <tr>\n",
       "      <th>...</th>\n",
       "      <td>...</td>\n",
       "      <td>...</td>\n",
       "    </tr>\n",
       "    <tr>\n",
       "      <th>Uzbekistan</th>\n",
       "      <td>3416.724096</td>\n",
       "      <td>6518.804687</td>\n",
       "    </tr>\n",
       "    <tr>\n",
       "      <th>Vanuatu</th>\n",
       "      <td>2888.309393</td>\n",
       "      <td>3116.645194</td>\n",
       "    </tr>\n",
       "    <tr>\n",
       "      <th>Vietnam</th>\n",
       "      <td>1673.249634</td>\n",
       "      <td>7155.745829</td>\n",
       "    </tr>\n",
       "    <tr>\n",
       "      <th>World</th>\n",
       "      <td>9680.269697</td>\n",
       "      <td>16253.385518</td>\n",
       "    </tr>\n",
       "    <tr>\n",
       "      <th>Zambia</th>\n",
       "      <td>2190.182814</td>\n",
       "      <td>3485.005238</td>\n",
       "    </tr>\n",
       "  </tbody>\n",
       "</table>\n",
       "<p>206 rows × 2 columns</p>\n",
       "</div>"
      ],
      "text/plain": [
       "Year                         1990          2017\n",
       "Country                                        \n",
       "Albania               4842.734635  12811.759436\n",
       "Algeria               8746.352901  11737.409353\n",
       "Angola                5783.429064   7310.901738\n",
       "Antigua and Barbuda  15459.551675  19840.076123\n",
       "Arab World            9694.667544  14555.474921\n",
       "...                           ...           ...\n",
       "Uzbekistan            3416.724096   6518.804687\n",
       "Vanuatu               2888.309393   3116.645194\n",
       "Vietnam               1673.249634   7155.745829\n",
       "World                 9680.269697  16253.385518\n",
       "Zambia                2190.182814   3485.005238\n",
       "\n",
       "[206 rows x 2 columns]"
      ]
     },
     "execution_count": 18,
     "metadata": {},
     "output_type": "execute_result"
    }
   ],
   "source": [
    "gdp_pivoted"
   ]
  },
  {
   "cell_type": "markdown",
   "metadata": {},
   "source": [
    "15 - Create a new column in gdp_pivoted named Percent_Change. This column should contain the percent change in GDP_Per_Capita from 1990 to 2017. Hint: Percent change is calculated as 100*(New Value - Old Value) / Old Value."
   ]
  },
  {
   "cell_type": "code",
   "execution_count": 19,
   "metadata": {
    "scrolled": true
   },
   "outputs": [],
   "source": [
    "#  Question 15) \n",
    "\n",
    "pivx100 = np.multiply(100, np.subtract(gdp_pivoted.iloc[:, [1]], gdp_pivoted.iloc[:, [0]]))\n",
    "\n",
    "pct_change = np.true_divide(pivx100, gdp_pivoted.iloc[:, [0]])"
   ]
  },
  {
   "cell_type": "code",
   "execution_count": 20,
   "metadata": {},
   "outputs": [],
   "source": [
    "gdp_pivoted['Pct_Change'] = pct_change"
   ]
  },
  {
   "cell_type": "code",
   "execution_count": 21,
   "metadata": {},
   "outputs": [
    {
     "data": {
      "text/html": [
       "<div>\n",
       "<style scoped>\n",
       "    .dataframe tbody tr th:only-of-type {\n",
       "        vertical-align: middle;\n",
       "    }\n",
       "\n",
       "    .dataframe tbody tr th {\n",
       "        vertical-align: top;\n",
       "    }\n",
       "\n",
       "    .dataframe thead th {\n",
       "        text-align: right;\n",
       "    }\n",
       "</style>\n",
       "<table border=\"1\" class=\"dataframe\">\n",
       "  <thead>\n",
       "    <tr style=\"text-align: right;\">\n",
       "      <th>Year</th>\n",
       "      <th>1990</th>\n",
       "      <th>2017</th>\n",
       "      <th>Pct_Change</th>\n",
       "    </tr>\n",
       "    <tr>\n",
       "      <th>Country</th>\n",
       "      <th></th>\n",
       "      <th></th>\n",
       "      <th></th>\n",
       "    </tr>\n",
       "  </thead>\n",
       "  <tbody>\n",
       "    <tr>\n",
       "      <th>Albania</th>\n",
       "      <td>4842.734635</td>\n",
       "      <td>12811.759436</td>\n",
       "      <td>164.556297</td>\n",
       "    </tr>\n",
       "    <tr>\n",
       "      <th>Algeria</th>\n",
       "      <td>8746.352901</td>\n",
       "      <td>11737.409353</td>\n",
       "      <td>34.197756</td>\n",
       "    </tr>\n",
       "    <tr>\n",
       "      <th>Angola</th>\n",
       "      <td>5783.429064</td>\n",
       "      <td>7310.901738</td>\n",
       "      <td>26.411194</td>\n",
       "    </tr>\n",
       "    <tr>\n",
       "      <th>Antigua and Barbuda</th>\n",
       "      <td>15459.551675</td>\n",
       "      <td>19840.076123</td>\n",
       "      <td>28.335391</td>\n",
       "    </tr>\n",
       "    <tr>\n",
       "      <th>Arab World</th>\n",
       "      <td>9694.667544</td>\n",
       "      <td>14555.474921</td>\n",
       "      <td>50.138980</td>\n",
       "    </tr>\n",
       "    <tr>\n",
       "      <th>...</th>\n",
       "      <td>...</td>\n",
       "      <td>...</td>\n",
       "      <td>...</td>\n",
       "    </tr>\n",
       "    <tr>\n",
       "      <th>Uzbekistan</th>\n",
       "      <td>3416.724096</td>\n",
       "      <td>6518.804687</td>\n",
       "      <td>90.791077</td>\n",
       "    </tr>\n",
       "    <tr>\n",
       "      <th>Vanuatu</th>\n",
       "      <td>2888.309393</td>\n",
       "      <td>3116.645194</td>\n",
       "      <td>7.905517</td>\n",
       "    </tr>\n",
       "    <tr>\n",
       "      <th>Vietnam</th>\n",
       "      <td>1673.249634</td>\n",
       "      <td>7155.745829</td>\n",
       "      <td>327.655604</td>\n",
       "    </tr>\n",
       "    <tr>\n",
       "      <th>World</th>\n",
       "      <td>9680.269697</td>\n",
       "      <td>16253.385518</td>\n",
       "      <td>67.902197</td>\n",
       "    </tr>\n",
       "    <tr>\n",
       "      <th>Zambia</th>\n",
       "      <td>2190.182814</td>\n",
       "      <td>3485.005238</td>\n",
       "      <td>59.119377</td>\n",
       "    </tr>\n",
       "  </tbody>\n",
       "</table>\n",
       "<p>206 rows × 3 columns</p>\n",
       "</div>"
      ],
      "text/plain": [
       "Year                         1990          2017  Pct_Change\n",
       "Country                                                    \n",
       "Albania               4842.734635  12811.759436  164.556297\n",
       "Algeria               8746.352901  11737.409353   34.197756\n",
       "Angola                5783.429064   7310.901738   26.411194\n",
       "Antigua and Barbuda  15459.551675  19840.076123   28.335391\n",
       "Arab World            9694.667544  14555.474921   50.138980\n",
       "...                           ...           ...         ...\n",
       "Uzbekistan            3416.724096   6518.804687   90.791077\n",
       "Vanuatu               2888.309393   3116.645194    7.905517\n",
       "Vietnam               1673.249634   7155.745829  327.655604\n",
       "World                 9680.269697  16253.385518   67.902197\n",
       "Zambia                2190.182814   3485.005238   59.119377\n",
       "\n",
       "[206 rows x 3 columns]"
      ]
     },
     "execution_count": 21,
     "metadata": {},
     "output_type": "execute_result"
    }
   ],
   "source": [
    "gdp_pivoted"
   ]
  },
  {
   "cell_type": "markdown",
   "metadata": {},
   "source": [
    "16 - Q. How many countries experienced a negative percent change in GDP per capita from 1990 to 2017?\n",
    "\n",
    "A. 16"
   ]
  },
  {
   "cell_type": "code",
   "execution_count": 22,
   "metadata": {},
   "outputs": [
    {
     "data": {
      "text/html": [
       "<div>\n",
       "<style scoped>\n",
       "    .dataframe tbody tr th:only-of-type {\n",
       "        vertical-align: middle;\n",
       "    }\n",
       "\n",
       "    .dataframe tbody tr th {\n",
       "        vertical-align: top;\n",
       "    }\n",
       "\n",
       "    .dataframe thead th {\n",
       "        text-align: right;\n",
       "    }\n",
       "</style>\n",
       "<table border=\"1\" class=\"dataframe\">\n",
       "  <thead>\n",
       "    <tr style=\"text-align: right;\">\n",
       "      <th>Year</th>\n",
       "      <th>1990</th>\n",
       "      <th>2017</th>\n",
       "      <th>Pct_Change</th>\n",
       "    </tr>\n",
       "    <tr>\n",
       "      <th>Country</th>\n",
       "      <th></th>\n",
       "      <th></th>\n",
       "      <th></th>\n",
       "    </tr>\n",
       "  </thead>\n",
       "  <tbody>\n",
       "    <tr>\n",
       "      <th>Brunei</th>\n",
       "      <td>71230.862143</td>\n",
       "      <td>60995.681114</td>\n",
       "      <td>-14.369026</td>\n",
       "    </tr>\n",
       "    <tr>\n",
       "      <th>Burundi</th>\n",
       "      <td>1184.842440</td>\n",
       "      <td>773.571858</td>\n",
       "      <td>-34.710993</td>\n",
       "    </tr>\n",
       "    <tr>\n",
       "      <th>Central African Republic</th>\n",
       "      <td>1201.677234</td>\n",
       "      <td>912.802052</td>\n",
       "      <td>-24.039332</td>\n",
       "    </tr>\n",
       "    <tr>\n",
       "      <th>Comoros</th>\n",
       "      <td>3061.360665</td>\n",
       "      <td>3032.254682</td>\n",
       "      <td>-0.950753</td>\n",
       "    </tr>\n",
       "    <tr>\n",
       "      <th>Congo</th>\n",
       "      <td>5115.210903</td>\n",
       "      <td>4274.296414</td>\n",
       "      <td>-16.439488</td>\n",
       "    </tr>\n",
       "    <tr>\n",
       "      <th>Dem. Rep. Congo</th>\n",
       "      <td>1819.723315</td>\n",
       "      <td>1059.810775</td>\n",
       "      <td>-41.759785</td>\n",
       "    </tr>\n",
       "    <tr>\n",
       "      <th>Gabon</th>\n",
       "      <td>18179.265733</td>\n",
       "      <td>15006.764091</td>\n",
       "      <td>-17.451209</td>\n",
       "    </tr>\n",
       "    <tr>\n",
       "      <th>Guinea-Bissau</th>\n",
       "      <td>1994.669656</td>\n",
       "      <td>1925.237737</td>\n",
       "      <td>-3.480873</td>\n",
       "    </tr>\n",
       "    <tr>\n",
       "      <th>Haiti</th>\n",
       "      <td>3229.618638</td>\n",
       "      <td>2980.960856</td>\n",
       "      <td>-7.699292</td>\n",
       "    </tr>\n",
       "    <tr>\n",
       "      <th>Kyrgyz Republic</th>\n",
       "      <td>5158.317569</td>\n",
       "      <td>5046.691535</td>\n",
       "      <td>-2.164001</td>\n",
       "    </tr>\n",
       "    <tr>\n",
       "      <th>Madagascar</th>\n",
       "      <td>1853.051624</td>\n",
       "      <td>1584.422678</td>\n",
       "      <td>-14.496571</td>\n",
       "    </tr>\n",
       "    <tr>\n",
       "      <th>Tajikistan</th>\n",
       "      <td>3869.043636</td>\n",
       "      <td>3089.530208</td>\n",
       "      <td>-20.147445</td>\n",
       "    </tr>\n",
       "    <tr>\n",
       "      <th>The Bahamas</th>\n",
       "      <td>38099.848616</td>\n",
       "      <td>36297.307023</td>\n",
       "      <td>-4.731099</td>\n",
       "    </tr>\n",
       "    <tr>\n",
       "      <th>The Gambia</th>\n",
       "      <td>2265.238219</td>\n",
       "      <td>2072.652450</td>\n",
       "      <td>-8.501789</td>\n",
       "    </tr>\n",
       "    <tr>\n",
       "      <th>Ukraine</th>\n",
       "      <td>15751.722440</td>\n",
       "      <td>11871.123624</td>\n",
       "      <td>-24.636028</td>\n",
       "    </tr>\n",
       "    <tr>\n",
       "      <th>United Arab Emirates</th>\n",
       "      <td>111454.360446</td>\n",
       "      <td>67183.626557</td>\n",
       "      <td>-39.720953</td>\n",
       "    </tr>\n",
       "  </tbody>\n",
       "</table>\n",
       "</div>"
      ],
      "text/plain": [
       "Year                               1990          2017  Pct_Change\n",
       "Country                                                          \n",
       "Brunei                     71230.862143  60995.681114  -14.369026\n",
       "Burundi                     1184.842440    773.571858  -34.710993\n",
       "Central African Republic    1201.677234    912.802052  -24.039332\n",
       "Comoros                     3061.360665   3032.254682   -0.950753\n",
       "Congo                       5115.210903   4274.296414  -16.439488\n",
       "Dem. Rep. Congo             1819.723315   1059.810775  -41.759785\n",
       "Gabon                      18179.265733  15006.764091  -17.451209\n",
       "Guinea-Bissau               1994.669656   1925.237737   -3.480873\n",
       "Haiti                       3229.618638   2980.960856   -7.699292\n",
       "Kyrgyz Republic             5158.317569   5046.691535   -2.164001\n",
       "Madagascar                  1853.051624   1584.422678  -14.496571\n",
       "Tajikistan                  3869.043636   3089.530208  -20.147445\n",
       "The Bahamas                38099.848616  36297.307023   -4.731099\n",
       "The Gambia                  2265.238219   2072.652450   -8.501789\n",
       "Ukraine                    15751.722440  11871.123624  -24.636028\n",
       "United Arab Emirates      111454.360446  67183.626557  -39.720953"
      ]
     },
     "execution_count": 22,
     "metadata": {},
     "output_type": "execute_result"
    }
   ],
   "source": [
    "# Question 16)\n",
    "\n",
    "gdp_pivoted[gdp_pivoted['Pct_Change'] < 0]"
   ]
  },
  {
   "cell_type": "markdown",
   "metadata": {},
   "source": [
    "17 - Which country had the highest % change in GDP per capita? Create a line plot showing this country's GDP per capita for all years from 1990 to 2017. Create another showing the country with the second highest % change in GDP. How do the trends in these countries compare?\n",
    "\n",
    "Bonus: Put both line charts on the same plot."
   ]
  },
  {
   "cell_type": "code",
   "execution_count": 23,
   "metadata": {},
   "outputs": [
    {
     "data": {
      "text/plain": [
       "Country\n",
       "Equatorial Guinea                              2068.404561\n",
       "China                                           907.406281\n",
       "Myanmar                                         664.939443\n",
       "East Asia & Pacific (excluding high income)     497.560254\n",
       "East Asia & Pacific (IDA & IBRD)                497.334945\n",
       "Vietnam                                         327.655604\n",
       "Bhutan                                          300.205067\n",
       "Cabo Verde                                      279.908231\n",
       "Lao PDR                                         269.434463\n",
       "India                                           241.804970\n",
       "Name: Pct_Change, dtype: float64"
      ]
     },
     "execution_count": 23,
     "metadata": {},
     "output_type": "execute_result"
    }
   ],
   "source": [
    "# Question 17)\n",
    "\n",
    "gdp_pivoted['Pct_Change'].nlargest(10)"
   ]
  },
  {
   "cell_type": "code",
   "execution_count": null,
   "metadata": {},
   "outputs": [],
   "source": [
    "# ** TODO ** - MAKE PLOTS - FOR OVERLAP SEE Stats Notebook_05c, p 7 - Morning vs Afternoon group\n",
    "\n",
    "x       = np.linspace(1990, 2017, 100)\n",
    "fig, ax = plt.subplots(1, 1, figsize=(8,6))\n",
    "\n",
    "ax.plot(x, )\n",
    "\n",
    "plt.legend();"
   ]
  },
  {
   "cell_type": "markdown",
   "metadata": {},
   "source": [
    "18 - Read in continents.csv contained in the data folder into a new dataframe called continents. We will be using this dataframe to add a new column to our dataset."
   ]
  },
  {
   "cell_type": "code",
   "execution_count": 24,
   "metadata": {},
   "outputs": [],
   "source": [
    "# Question 18)\n",
    "\n",
    "continents = pd.read_csv('../data/continents.csv')"
   ]
  },
  {
   "cell_type": "code",
   "execution_count": 25,
   "metadata": {},
   "outputs": [
    {
     "data": {
      "text/html": [
       "<div>\n",
       "<style scoped>\n",
       "    .dataframe tbody tr th:only-of-type {\n",
       "        vertical-align: middle;\n",
       "    }\n",
       "\n",
       "    .dataframe tbody tr th {\n",
       "        vertical-align: top;\n",
       "    }\n",
       "\n",
       "    .dataframe thead th {\n",
       "        text-align: right;\n",
       "    }\n",
       "</style>\n",
       "<table border=\"1\" class=\"dataframe\">\n",
       "  <thead>\n",
       "    <tr style=\"text-align: right;\">\n",
       "      <th></th>\n",
       "      <th>Continent</th>\n",
       "      <th>Country</th>\n",
       "    </tr>\n",
       "  </thead>\n",
       "  <tbody>\n",
       "    <tr>\n",
       "      <th>0</th>\n",
       "      <td>Asia</td>\n",
       "      <td>Afghanistan</td>\n",
       "    </tr>\n",
       "    <tr>\n",
       "      <th>1</th>\n",
       "      <td>Europe</td>\n",
       "      <td>Albania</td>\n",
       "    </tr>\n",
       "    <tr>\n",
       "      <th>2</th>\n",
       "      <td>Africa</td>\n",
       "      <td>Algeria</td>\n",
       "    </tr>\n",
       "    <tr>\n",
       "      <th>3</th>\n",
       "      <td>Europe</td>\n",
       "      <td>Andorra</td>\n",
       "    </tr>\n",
       "    <tr>\n",
       "      <th>4</th>\n",
       "      <td>Africa</td>\n",
       "      <td>Angola</td>\n",
       "    </tr>\n",
       "  </tbody>\n",
       "</table>\n",
       "</div>"
      ],
      "text/plain": [
       "  Continent      Country\n",
       "0      Asia  Afghanistan\n",
       "1    Europe      Albania\n",
       "2    Africa      Algeria\n",
       "3    Europe      Andorra\n",
       "4    Africa       Angola"
      ]
     },
     "execution_count": 25,
     "metadata": {},
     "output_type": "execute_result"
    }
   ],
   "source": [
    "continents.head()"
   ]
  },
  {
   "cell_type": "markdown",
   "metadata": {},
   "source": [
    "19 - Merge gdp_df and continents. Keep only the countries that appear in both data frames. Save the result back to gdp_df."
   ]
  },
  {
   "cell_type": "code",
   "execution_count": 26,
   "metadata": {},
   "outputs": [],
   "source": [
    "# Question 19)\n",
    "\n",
    "gdp_df = pd.merge(left  = gdp_df,\n",
    "                  right = continents,\n",
    "                  left_on = 'Country', \n",
    "                  right_on='Country')"
   ]
  },
  {
   "cell_type": "code",
   "execution_count": 27,
   "metadata": {},
   "outputs": [
    {
     "data": {
      "text/html": [
       "<div>\n",
       "<style scoped>\n",
       "    .dataframe tbody tr th:only-of-type {\n",
       "        vertical-align: middle;\n",
       "    }\n",
       "\n",
       "    .dataframe tbody tr th {\n",
       "        vertical-align: top;\n",
       "    }\n",
       "\n",
       "    .dataframe thead th {\n",
       "        text-align: right;\n",
       "    }\n",
       "</style>\n",
       "<table border=\"1\" class=\"dataframe\">\n",
       "  <thead>\n",
       "    <tr style=\"text-align: right;\">\n",
       "      <th></th>\n",
       "      <th>Country</th>\n",
       "      <th>Year</th>\n",
       "      <th>GDP Per Capita</th>\n",
       "      <th>Continent</th>\n",
       "    </tr>\n",
       "  </thead>\n",
       "  <tbody>\n",
       "    <tr>\n",
       "      <th>0</th>\n",
       "      <td>Afghanistan</td>\n",
       "      <td>2019</td>\n",
       "      <td>2065.036398</td>\n",
       "      <td>Asia</td>\n",
       "    </tr>\n",
       "    <tr>\n",
       "      <th>1</th>\n",
       "      <td>Afghanistan</td>\n",
       "      <td>2018</td>\n",
       "      <td>2033.779002</td>\n",
       "      <td>Asia</td>\n",
       "    </tr>\n",
       "    <tr>\n",
       "      <th>2</th>\n",
       "      <td>Afghanistan</td>\n",
       "      <td>2017</td>\n",
       "      <td>2058.383832</td>\n",
       "      <td>Asia</td>\n",
       "    </tr>\n",
       "    <tr>\n",
       "      <th>3</th>\n",
       "      <td>Afghanistan</td>\n",
       "      <td>2016</td>\n",
       "      <td>2057.062164</td>\n",
       "      <td>Asia</td>\n",
       "    </tr>\n",
       "    <tr>\n",
       "      <th>4</th>\n",
       "      <td>Afghanistan</td>\n",
       "      <td>2015</td>\n",
       "      <td>2068.265904</td>\n",
       "      <td>Asia</td>\n",
       "    </tr>\n",
       "    <tr>\n",
       "      <th>...</th>\n",
       "      <td>...</td>\n",
       "      <td>...</td>\n",
       "      <td>...</td>\n",
       "      <td>...</td>\n",
       "    </tr>\n",
       "    <tr>\n",
       "      <th>5436</th>\n",
       "      <td>Zimbabwe</td>\n",
       "      <td>1996</td>\n",
       "      <td>3520.430146</td>\n",
       "      <td>Africa</td>\n",
       "    </tr>\n",
       "    <tr>\n",
       "      <th>5437</th>\n",
       "      <td>Zimbabwe</td>\n",
       "      <td>1995</td>\n",
       "      <td>3226.413930</td>\n",
       "      <td>Africa</td>\n",
       "    </tr>\n",
       "    <tr>\n",
       "      <th>5438</th>\n",
       "      <td>Zimbabwe</td>\n",
       "      <td>1994</td>\n",
       "      <td>3263.934978</td>\n",
       "      <td>Africa</td>\n",
       "    </tr>\n",
       "    <tr>\n",
       "      <th>5439</th>\n",
       "      <td>Zimbabwe</td>\n",
       "      <td>1993</td>\n",
       "      <td>3033.504852</td>\n",
       "      <td>Africa</td>\n",
       "    </tr>\n",
       "    <tr>\n",
       "      <th>5440</th>\n",
       "      <td>Zimbabwe</td>\n",
       "      <td>1992</td>\n",
       "      <td>3054.889178</td>\n",
       "      <td>Africa</td>\n",
       "    </tr>\n",
       "  </tbody>\n",
       "</table>\n",
       "<p>5441 rows × 4 columns</p>\n",
       "</div>"
      ],
      "text/plain": [
       "          Country  Year  GDP Per Capita Continent\n",
       "0     Afghanistan  2019     2065.036398      Asia\n",
       "1     Afghanistan  2018     2033.779002      Asia\n",
       "2     Afghanistan  2017     2058.383832      Asia\n",
       "3     Afghanistan  2016     2057.062164      Asia\n",
       "4     Afghanistan  2015     2068.265904      Asia\n",
       "...           ...   ...             ...       ...\n",
       "5436     Zimbabwe  1996     3520.430146    Africa\n",
       "5437     Zimbabwe  1995     3226.413930    Africa\n",
       "5438     Zimbabwe  1994     3263.934978    Africa\n",
       "5439     Zimbabwe  1993     3033.504852    Africa\n",
       "5440     Zimbabwe  1992     3054.889178    Africa\n",
       "\n",
       "[5441 rows x 4 columns]"
      ]
     },
     "execution_count": 27,
     "metadata": {},
     "output_type": "execute_result"
    }
   ],
   "source": [
    "gdp_df"
   ]
  },
  {
   "cell_type": "markdown",
   "metadata": {},
   "source": [
    "20 - Determine the number of countries per continent. Create a bar chart showing this."
   ]
  },
  {
   "cell_type": "code",
   "execution_count": 28,
   "metadata": {},
   "outputs": [
    {
     "data": {
      "text/plain": [
       "Continent      Year\n",
       "Africa         2019    49\n",
       "Asia           2019    42\n",
       "Europe         2019    44\n",
       "North America  2019    24\n",
       "Oceania        2019    12\n",
       "South America  2019    11\n",
       "Name: Country, dtype: int64"
      ]
     },
     "execution_count": 28,
     "metadata": {},
     "output_type": "execute_result"
    }
   ],
   "source": [
    "# Question 20) - Number of countries per continent - DOING ONLY MOST RECENT YEAR TO AVOID DUPLICATES\n",
    "\n",
    "gdp_df[gdp_df['Year']==2019].groupby(['Continent','Year'])['Country'].count()"
   ]
  },
  {
   "cell_type": "code",
   "execution_count": 29,
   "metadata": {},
   "outputs": [
    {
     "data": {
      "text/plain": [
       "<AxesSubplot:xlabel='Continent,Year'>"
      ]
     },
     "execution_count": 29,
     "metadata": {},
     "output_type": "execute_result"
    },
    {
     "data": {
      "image/png": "[encoded data removed]",
      "text/plain": [
       "<Figure size 432x288 with 1 Axes>"
      ]
     },
     "metadata": {
      "needs_background": "light"
     },
     "output_type": "display_data"
    }
   ],
   "source": [
    "gdp_df[gdp_df['Year']==2019].groupby(['Continent','Year'])['Country'].count().plot(kind = 'bar')"
   ]
  },
  {
   "cell_type": "markdown",
   "metadata": {},
   "source": [
    "21 - Q. Create a seaborn boxplot showing GDP per capita in 2014 split out by continent. What do you notice?\n",
    "\n",
    "A. Each continent's value is only a flat black line, since we are only getting a summary value for one year per each continent, as opposed to the colorful ranges of values one normally sees in Seaborn box plots.  For this reason, it strikes me that a Seaborn box plot might not be the ideal visualization choice for this particular set of figures."
   ]
  },
  {
   "cell_type": "code",
   "execution_count": 30,
   "metadata": {},
   "outputs": [],
   "source": [
    "gdp_cont_2014 = gdp_df[gdp_df['Year']==2014].groupby('Continent')['GDP Per Capita'].sum()"
   ]
  },
  {
   "cell_type": "code",
   "execution_count": 31,
   "metadata": {},
   "outputs": [
    {
     "data": {
      "text/plain": [
       "<AxesSubplot:xlabel='Continent', ylabel='GDP Per Capita'>"
      ]
     },
     "execution_count": 31,
     "metadata": {},
     "output_type": "execute_result"
    },
    {
     "data": {
      "image/png": "[encoded data removed]",
      "text/plain": [
       "<Figure size 432x288 with 1 Axes>"
      ]
     },
     "metadata": {
      "needs_background": "light"
     },
     "output_type": "display_data"
    }
   ],
   "source": [
    "sns.boxplot(data=gdp_cont_2014.reset_index(), x='Continent', y='GDP Per Capita')"
   ]
  },
  {
   "cell_type": "markdown",
   "metadata": {},
   "source": [
    "22 - Read in internet_use.csv into a DataFrame called internet_df. You will most likely get an error message when doing this - figure out what is going wrong and fix it. Take a look at the first and last five rows and make any corrections to your read_csv() call to fix this. Again, do not modify the original datasets.\n",
    "\n",
    "23 - Drop the Value Footnotes column and then rename the columns to ‘Country’, ‘Year’, and ‘Internet_Users_Pct’."
   ]
  },
  {
   "cell_type": "code",
   "execution_count": 32,
   "metadata": {
    "scrolled": true
   },
   "outputs": [],
   "source": [
    "# Questions 22 & 23)\n",
    "\n",
    "internet_df = pd.read_csv('../data/internet_use.csv', \n",
    "                          header=0, \n",
    "                          usecols=[0,1,2], \n",
    "                          names=['Country', 'Year', 'Internet_Users_Pct'])"
   ]
  },
  {
   "cell_type": "code",
   "execution_count": 33,
   "metadata": {},
   "outputs": [
    {
     "data": {
      "text/html": [
       "<div>\n",
       "<style scoped>\n",
       "    .dataframe tbody tr th:only-of-type {\n",
       "        vertical-align: middle;\n",
       "    }\n",
       "\n",
       "    .dataframe tbody tr th {\n",
       "        vertical-align: top;\n",
       "    }\n",
       "\n",
       "    .dataframe thead th {\n",
       "        text-align: right;\n",
       "    }\n",
       "</style>\n",
       "<table border=\"1\" class=\"dataframe\">\n",
       "  <thead>\n",
       "    <tr style=\"text-align: right;\">\n",
       "      <th></th>\n",
       "      <th>Country</th>\n",
       "      <th>Year</th>\n",
       "      <th>Internet_Users_Pct</th>\n",
       "    </tr>\n",
       "  </thead>\n",
       "  <tbody>\n",
       "    <tr>\n",
       "      <th>0</th>\n",
       "      <td>Afghanistan</td>\n",
       "      <td>2014</td>\n",
       "      <td>6.39</td>\n",
       "    </tr>\n",
       "    <tr>\n",
       "      <th>1</th>\n",
       "      <td>Afghanistan</td>\n",
       "      <td>2013</td>\n",
       "      <td>5.9</td>\n",
       "    </tr>\n",
       "    <tr>\n",
       "      <th>2</th>\n",
       "      <td>Afghanistan</td>\n",
       "      <td>2012</td>\n",
       "      <td>5.45454545454545</td>\n",
       "    </tr>\n",
       "    <tr>\n",
       "      <th>3</th>\n",
       "      <td>Afghanistan</td>\n",
       "      <td>2011</td>\n",
       "      <td>5</td>\n",
       "    </tr>\n",
       "    <tr>\n",
       "      <th>4</th>\n",
       "      <td>Afghanistan</td>\n",
       "      <td>2010</td>\n",
       "      <td>4</td>\n",
       "    </tr>\n",
       "    <tr>\n",
       "      <th>...</th>\n",
       "      <td>...</td>\n",
       "      <td>...</td>\n",
       "      <td>...</td>\n",
       "    </tr>\n",
       "    <tr>\n",
       "      <th>4671</th>\n",
       "      <td>176</td>\n",
       "      <td>NTIA/CPS survey.</td>\n",
       "      <td>NaN</td>\n",
       "    </tr>\n",
       "    <tr>\n",
       "      <th>4672</th>\n",
       "      <td>177</td>\n",
       "      <td>Pew Internet Project, Internet</td>\n",
       "      <td>Broadband and cell phone statistics</td>\n",
       "    </tr>\n",
       "    <tr>\n",
       "      <th>4673</th>\n",
       "      <td>178</td>\n",
       "      <td>Estimated based on Survey's results. Populatio...</td>\n",
       "      <td>NaN</td>\n",
       "    </tr>\n",
       "    <tr>\n",
       "      <th>4674</th>\n",
       "      <td>179</td>\n",
       "      <td>Preliminary. Country estimate.</td>\n",
       "      <td>NaN</td>\n",
       "    </tr>\n",
       "    <tr>\n",
       "      <th>4675</th>\n",
       "      <td>180</td>\n",
       "      <td>The methodology used to estimated the figure f...</td>\n",
       "      <td>NaN</td>\n",
       "    </tr>\n",
       "  </tbody>\n",
       "</table>\n",
       "<p>4676 rows × 3 columns</p>\n",
       "</div>"
      ],
      "text/plain": [
       "          Country                                               Year  \\\n",
       "0     Afghanistan                                               2014   \n",
       "1     Afghanistan                                               2013   \n",
       "2     Afghanistan                                               2012   \n",
       "3     Afghanistan                                               2011   \n",
       "4     Afghanistan                                               2010   \n",
       "...           ...                                                ...   \n",
       "4671          176                                   NTIA/CPS survey.   \n",
       "4672          177                     Pew Internet Project, Internet   \n",
       "4673          178  Estimated based on Survey's results. Populatio...   \n",
       "4674          179                     Preliminary. Country estimate.   \n",
       "4675          180  The methodology used to estimated the figure f...   \n",
       "\n",
       "                        Internet_Users_Pct  \n",
       "0                                     6.39  \n",
       "1                                      5.9  \n",
       "2                         5.45454545454545  \n",
       "3                                        5  \n",
       "4                                        4  \n",
       "...                                    ...  \n",
       "4671                                   NaN  \n",
       "4672   Broadband and cell phone statistics  \n",
       "4673                                   NaN  \n",
       "4674                                   NaN  \n",
       "4675                                   NaN  \n",
       "\n",
       "[4676 rows x 3 columns]"
      ]
     },
     "execution_count": 33,
     "metadata": {},
     "output_type": "execute_result"
    }
   ],
   "source": [
    "internet_df"
   ]
  },
  {
   "cell_type": "markdown",
   "metadata": {},
   "source": [
    "24 - How many rows and columns does this new dataset have? What are the types of its columns? Ensure that the Internet_Users_Pct column is a numeric data type and fix it if it is not."
   ]
  },
  {
   "cell_type": "markdown",
   "metadata": {},
   "source": [
    "24 - Q. How many rows and columns does this new dataset have? What are the types of its columns? Ensure that the Internet_Users_Pct column is a numeric data type and fix it if it is not.\n",
    "\n",
    "A. internet_df has 4676 rows and three columns, which all have \"object\" data types before converting the percentage to a numeric data type."
   ]
  },
  {
   "cell_type": "code",
   "execution_count": 34,
   "metadata": {},
   "outputs": [
    {
     "name": "stdout",
     "output_type": "stream",
     "text": [
      "<class 'pandas.core.frame.DataFrame'>\n",
      "RangeIndex: 4676 entries, 0 to 4675\n",
      "Data columns (total 3 columns):\n",
      " #   Column              Non-Null Count  Dtype \n",
      "---  ------              --------------  ----- \n",
      " 0   Country             4676 non-null   object\n",
      " 1   Year                4676 non-null   object\n",
      " 2   Internet_Users_Pct  4496 non-null   object\n",
      "dtypes: object(3)\n",
      "memory usage: 109.7+ KB\n"
     ]
    }
   ],
   "source": [
    "# Question 24)\n",
    "\n",
    "internet_df.info()"
   ]
  },
  {
   "cell_type": "code",
   "execution_count": 35,
   "metadata": {},
   "outputs": [],
   "source": [
    "internet_df['Internet_Users_Pct'] = pd.to_numeric(internet_df['Internet_Users_Pct'], errors='coerce')"
   ]
  },
  {
   "cell_type": "markdown",
   "metadata": {},
   "source": [
    "25 - Q. What is the first year that has a nonzero internet users percentage reported? What is the general trend in internet users percentage over the years. Pick a visualization that you think illustrates this trend well.\n",
    "\n",
    "A. 1990 is the first year with a non-zero reported percentage of internet use."
   ]
  },
  {
   "cell_type": "code",
   "execution_count": 36,
   "metadata": {},
   "outputs": [
    {
     "data": {
      "text/html": [
       "<div>\n",
       "<style scoped>\n",
       "    .dataframe tbody tr th:only-of-type {\n",
       "        vertical-align: middle;\n",
       "    }\n",
       "\n",
       "    .dataframe tbody tr th {\n",
       "        vertical-align: top;\n",
       "    }\n",
       "\n",
       "    .dataframe thead th {\n",
       "        text-align: right;\n",
       "    }\n",
       "</style>\n",
       "<table border=\"1\" class=\"dataframe\">\n",
       "  <thead>\n",
       "    <tr style=\"text-align: right;\">\n",
       "      <th></th>\n",
       "      <th>Country</th>\n",
       "      <th>Year</th>\n",
       "      <th>Internet_Users_Pct</th>\n",
       "    </tr>\n",
       "  </thead>\n",
       "  <tbody>\n",
       "    <tr>\n",
       "      <th>204</th>\n",
       "      <td>Australia</td>\n",
       "      <td>1990</td>\n",
       "      <td>0.585095</td>\n",
       "    </tr>\n",
       "    <tr>\n",
       "      <th>229</th>\n",
       "      <td>Austria</td>\n",
       "      <td>1990</td>\n",
       "      <td>0.130369</td>\n",
       "    </tr>\n",
       "    <tr>\n",
       "      <th>375</th>\n",
       "      <td>Belgium</td>\n",
       "      <td>1990</td>\n",
       "      <td>0.001007</td>\n",
       "    </tr>\n",
       "    <tr>\n",
       "      <th>728</th>\n",
       "      <td>Canada</td>\n",
       "      <td>1990</td>\n",
       "      <td>0.361000</td>\n",
       "    </tr>\n",
       "    <tr>\n",
       "      <th>1107</th>\n",
       "      <td>Denmark</td>\n",
       "      <td>1990</td>\n",
       "      <td>0.097277</td>\n",
       "    </tr>\n",
       "    <tr>\n",
       "      <th>1388</th>\n",
       "      <td>Finland</td>\n",
       "      <td>1990</td>\n",
       "      <td>0.401088</td>\n",
       "    </tr>\n",
       "    <tr>\n",
       "      <th>1413</th>\n",
       "      <td>France</td>\n",
       "      <td>1990</td>\n",
       "      <td>0.052778</td>\n",
       "    </tr>\n",
       "    <tr>\n",
       "      <th>1535</th>\n",
       "      <td>Germany</td>\n",
       "      <td>1990</td>\n",
       "      <td>0.125892</td>\n",
       "    </tr>\n",
       "    <tr>\n",
       "      <th>2023</th>\n",
       "      <td>Israel</td>\n",
       "      <td>1990</td>\n",
       "      <td>0.110774</td>\n",
       "    </tr>\n",
       "    <tr>\n",
       "      <th>2048</th>\n",
       "      <td>Italy</td>\n",
       "      <td>1990</td>\n",
       "      <td>0.017545</td>\n",
       "    </tr>\n",
       "    <tr>\n",
       "      <th>2095</th>\n",
       "      <td>Japan</td>\n",
       "      <td>1990</td>\n",
       "      <td>0.020294</td>\n",
       "    </tr>\n",
       "    <tr>\n",
       "      <th>2217</th>\n",
       "      <td>Korea (Rep. of)</td>\n",
       "      <td>1990</td>\n",
       "      <td>0.023265</td>\n",
       "    </tr>\n",
       "    <tr>\n",
       "      <th>2904</th>\n",
       "      <td>Netherlands</td>\n",
       "      <td>1990</td>\n",
       "      <td>0.334387</td>\n",
       "    </tr>\n",
       "    <tr>\n",
       "      <th>3040</th>\n",
       "      <td>Norway</td>\n",
       "      <td>1990</td>\n",
       "      <td>0.707299</td>\n",
       "    </tr>\n",
       "    <tr>\n",
       "      <th>3720</th>\n",
       "      <td>Spain</td>\n",
       "      <td>1990</td>\n",
       "      <td>0.012874</td>\n",
       "    </tr>\n",
       "    <tr>\n",
       "      <th>3849</th>\n",
       "      <td>Sweden</td>\n",
       "      <td>1990</td>\n",
       "      <td>0.584192</td>\n",
       "    </tr>\n",
       "    <tr>\n",
       "      <th>3874</th>\n",
       "      <td>Switzerland</td>\n",
       "      <td>1990</td>\n",
       "      <td>0.595714</td>\n",
       "    </tr>\n",
       "    <tr>\n",
       "      <th>4276</th>\n",
       "      <td>United Kingdom</td>\n",
       "      <td>1990</td>\n",
       "      <td>0.087355</td>\n",
       "    </tr>\n",
       "    <tr>\n",
       "      <th>4301</th>\n",
       "      <td>United States</td>\n",
       "      <td>1990</td>\n",
       "      <td>0.784729</td>\n",
       "    </tr>\n",
       "  </tbody>\n",
       "</table>\n",
       "</div>"
      ],
      "text/plain": [
       "              Country  Year  Internet_Users_Pct\n",
       "204         Australia  1990            0.585095\n",
       "229           Austria  1990            0.130369\n",
       "375           Belgium  1990            0.001007\n",
       "728            Canada  1990            0.361000\n",
       "1107          Denmark  1990            0.097277\n",
       "1388          Finland  1990            0.401088\n",
       "1413           France  1990            0.052778\n",
       "1535          Germany  1990            0.125892\n",
       "2023           Israel  1990            0.110774\n",
       "2048            Italy  1990            0.017545\n",
       "2095            Japan  1990            0.020294\n",
       "2217  Korea (Rep. of)  1990            0.023265\n",
       "2904      Netherlands  1990            0.334387\n",
       "3040           Norway  1990            0.707299\n",
       "3720            Spain  1990            0.012874\n",
       "3849           Sweden  1990            0.584192\n",
       "3874      Switzerland  1990            0.595714\n",
       "4276   United Kingdom  1990            0.087355\n",
       "4301    United States  1990            0.784729"
      ]
     },
     "execution_count": 36,
     "metadata": {},
     "output_type": "execute_result"
    }
   ],
   "source": [
    "# Question 25)\n",
    "\n",
    "internet_df[(internet_df['Year']=='1990') & (internet_df['Internet_Users_Pct']>0)]"
   ]
  },
  {
   "cell_type": "code",
   "execution_count": 37,
   "metadata": {},
   "outputs": [
    {
     "data": {
      "text/plain": [
       "<AxesSubplot:>"
      ]
     },
     "execution_count": 37,
     "metadata": {},
     "output_type": "execute_result"
    },
    {
     "data": {
      "image/png": "[encoded data removed]",
      "text/plain": [
       "<Figure size 432x288 with 1 Axes>"
      ]
     },
     "metadata": {
      "needs_background": "light"
     },
     "output_type": "display_data"
    }
   ],
   "source": [
    "# ** TODO **\n",
    "\n",
    "# plt.figure(figsize = (10,6))\n",
    "\n",
    "internet_df['Internet_Users_Pct'].plot(kind='bar')\n",
    "# plt.title('Internet users percentage per year');"
   ]
  },
  {
   "cell_type": "markdown",
   "metadata": {},
   "source": [
    "26 - Merge gdp_df and internet_df (on Country and Year) into a single DataFrame named gdp_and_internet_use. Keep only countries and years that appear in both tables."
   ]
  },
  {
   "cell_type": "code",
   "execution_count": null,
   "metadata": {},
   "outputs": [],
   "source": [
    "# Question 26)  MUST CONVERT ['Year'] DATA TYPE\n",
    "gdp_df['Year'] = gdp_df['Year'].to_string()"
   ]
  },
  {
   "cell_type": "code",
   "execution_count": null,
   "metadata": {
    "scrolled": true
   },
   "outputs": [],
   "source": [
    "gdp_df.join(internet_df.set_index('Country','Year'), on='Country', lsuffix='_left', rsuffix='_right')"
   ]
  },
  {
   "cell_type": "markdown",
   "metadata": {},
   "source": [
    "26 - Difficult Bonus: Do not attempt this part until you have completed all other portions of the data question. Some countries have slightly different names in the internet use and gdp dataframes. For example, the Central African Republic is \"Central African Republic\" in the gdp dataframe and \"Central African Rep.\" in the internet use dataframe. Find as many instances like this as you can and resolve them so that when merging you keep the maximum number of countries possible."
   ]
  },
  {
   "cell_type": "markdown",
   "metadata": {},
   "source": [
    "UN_Data solo exploration - World Bank statistical capacity\n",
    "\n",
    "Choose and download another data set from the UN data http://data.un.org/Explorer.aspx to merge with your data and explore. Prepare a short (< 5 minute) presentation of your findings. Report any interesting correlations you find. Include visualizations and consider adding interactivity with ipywidgets. This presentation can be done either in a Jupyter Notebook or using another presentation software, such as PowerPoint. Check out Jupyter Slides if you have time. This allows you to turn your jupyter notebook into a slideshow.\n",
    "\n",
    "If time allows, check out the plotly library to add additional interactivity to your plots. https://plotly.com/python/plotly-express/."
   ]
  },
  {
   "cell_type": "code",
   "execution_count": null,
   "metadata": {},
   "outputs": [],
   "source": [
    "countries = pd.read_csv('../data/World Bank/statistical_capacity.csv',\n",
    "                        usecols=[0,1,2])"
   ]
  },
  {
   "cell_type": "code",
   "execution_count": null,
   "metadata": {},
   "outputs": [],
   "source": [
    "countries.head()"
   ]
  },
  {
   "cell_type": "code",
   "execution_count": null,
   "metadata": {},
   "outputs": [],
   "source": [
    "countries.nsmallest(10, 'Value')"
   ]
  },
  {
   "cell_type": "code",
   "execution_count": null,
   "metadata": {
    "scrolled": true
   },
   "outputs": [],
   "source": [
    "countries['Year'].value_counts(ascending=True)"
   ]
  },
  {
   "cell_type": "markdown",
   "metadata": {},
   "source": [
    "** What does the World Bank mean by a country's statistical capacity? **\n",
    "\n",
    "SEE https://datatopics.worldbank.org/world-development-indicators/stories/statistical-performance-indicators.html\n",
    "https://datahelpdesk.worldbank.org/knowledgebase/articles/906531-methodologies\n",
    "https://datahelpdesk.worldbank.org/knowledgebase/articles/906534-data-quality-and-effectiveness\n",
    "https://datahelpdesk.worldbank.org/knowledgebase/articles/378834-how-does-the-world-bank-classify-countries\n",
    "https://www.worldbank.org/en/topic/measuringpoverty\n",
    "https://databank.worldbank.org/reports.aspx?source=3690&series=5.51.01.09.water"
   ]
  },
  {
   "cell_type": "markdown",
   "metadata": {},
   "source": [
    "In the UN Data Exploration assignment, we saw data for identifiable countries.  Countries that we know are also included in this World Bank data set, but there are also rows for other kinds of entries, e.g.\n",
    "\n",
    "\"Caribbean small states\"\n",
    "\"Early-demographic dividend\"\n",
    "\"East Asia & Pacific (excluding high income)\"\n",
    "\"East Asia & Pacific (IDA & IBRD)\"\n",
    "\"Fragile and conflict affected situations\"\n",
    "\"Heavily indebted poor countries (HIPC)\"\n",
    "\"IDA & IBRD total\"\n",
    "\"IDA blend\"\n",
    "\"IDA only\"\n",
    "\"Late-demographic dividend\"\n",
    "\"Least developed countries: UN classification\"\n",
    "\"Low & middle income\"\n",
    "\"Low income\"\n",
    "\"Lower middle income\"\n",
    "\"Middle income\"\n",
    "\"Other small states\""
   ]
  },
  {
   "cell_type": "markdown",
   "metadata": {},
   "source": [
    "(SEE ALSO WHETHER NUMBERS ARE LOWER FOR SMALL ISLANDS, e.g. \n",
    "\n",
    "\"Caribbean small states\"\n",
    "Comoros\n",
    "Dominica\n",
    "Marshall Islands\n",
    "Micronesia\n",
    "Naura\n",
    "St. Kitts and Nevis\n",
    "St. Lucia\n",
    "St. Vincent and the Grenadines\n",
    "Timor-Leste\n",
    "Vanuatu\n",
    ")"
   ]
  },
  {
   "cell_type": "code",
   "execution_count": null,
   "metadata": {
    "scrolled": true
   },
   "outputs": [],
   "source": [
    "countries[countries['Country or Area'].isin([\n",
    "'Caribbean small states',\n",
    "'Comoros',\n",
    "'Dominica',\n",
    "'Marshall Islands',\n",
    "'Micronesia',\n",
    "'Naura',\n",
    "'St. Kitts and Nevis',\n",
    "'St. Lucia',\n",
    "'St. Vincent and the Grenadines',\n",
    "'Timor-Leste',\n",
    "'Vanuatu'\n",
    "])]"
   ]
  },
  {
   "cell_type": "markdown",
   "metadata": {},
   "source": [
    "What countries are included here and why?\n",
    "\n",
    "It is striking that this data set contains none of the countries I think of as first-world economic powerhouses, such as the USA, UK, Japan, Switzerland, European Union countries such as Germany, etc.  Even though those countries have a lot of debt, they are not in debt to the World Bank.  The World Bank is located in Washington, DC. "
   ]
  },
  {
   "cell_type": "markdown",
   "metadata": {},
   "source": [
    "Notice that numbers can change seemingly abruptly.  Why would \"West Bank and Gaza\" go from ~42% in 2010 to almost 68% in 2011?  Why has Yemen dropped all the way to ~27.77% in 2020?  Why has Botswana dropped from 72.22% in 2004 to 50% in 2020?\n",
    "\n",
    "Q. Did every other country also drop in 2020?  \n",
    "A. No, e.g. Zimbabwe went up from ~56.66% in 2019 to ~58.88% in 2020."
   ]
  }
 ],
 "metadata": {
  "kernelspec": {
   "display_name": "Python 3",
   "language": "python",
   "name": "python3"
  },
  "language_info": {
   "codemirror_mode": {
    "name": "ipython",
    "version": 3
   },
   "file_extension": ".py",
   "mimetype": "text/x-python",
   "name": "python",
   "nbconvert_exporter": "python",
   "pygments_lexer": "ipython3",
   "version": "3.8.5"
  }
 },
 "nbformat": 4,
 "nbformat_minor": 5
}
